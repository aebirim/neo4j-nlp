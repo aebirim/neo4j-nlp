{
 "cells": [
  {
   "cell_type": "code",
   "execution_count": 22,
   "metadata": {
    "collapsed": true
   },
   "outputs": [],
   "source": [
    "from textrank.textrank import TextRank"
   ]
  },
  {
   "cell_type": "code",
   "execution_count": 23,
   "metadata": {
    "collapsed": true
   },
   "outputs": [],
   "source": [
    "t = TextRank('resources/scarlet-full.txt')"
   ]
  },
  {
   "cell_type": "code",
   "execution_count": 24,
   "metadata": {},
   "outputs": [
    {
     "data": {
      "text/plain": [
       "[(0.0052426481404902071, 'said'),\n",
       " (0.0042593782899282449, 'man'),\n",
       " (0.0029856827327407721, 'holmes'),\n",
       " (0.0027292145063114804, 'little'),\n",
       " (0.0025282297539501661, 'time'),\n",
       " (0.0024039514724438094, 'come'),\n",
       " (0.0023724280309682039, 'way'),\n",
       " (0.0022825846674930073, 'came'),\n",
       " (0.0022629490326275905, 'face'),\n",
       " (0.0021509569474380584, 'asked')]"
      ]
     },
     "execution_count": 24,
     "metadata": {},
     "output_type": "execute_result"
    }
   ],
   "source": [
    "t.keywords(10)"
   ]
  },
  {
   "cell_type": "code",
   "execution_count": 25,
   "metadata": {},
   "outputs": [
    {
     "data": {
      "text/plain": [
       "[(0.0013869236981359015, '“I have just come from his room,” said Lestrade.'),\n",
       " (0.0013736057974304129, '“You will give us time,” he said at last.'),\n",
       " (0.0012974694243799714, '“We have his cab,” said Sherlock Holmes.'),\n",
       " (0.0012711145334678949,\n",
       "  '“I think we have done all that can be done,” he answered; “it’s a queer case though, and I knew your taste for such things.” “You did not come here in a cab?” asked Sherlock Holmes.'),\n",
       " (0.0012116966289498123,\n",
       "  '“There is only one point on which I should like a little more information,” Sherlock Holmes said at last.')]"
      ]
     },
     "execution_count": 25,
     "metadata": {},
     "output_type": "execute_result"
    }
   ],
   "source": [
    "t.key_sentences(5)"
   ]
  },
  {
   "cell_type": "code",
   "execution_count": 13,
   "metadata": {},
   "outputs": [
    {
     "data": {
      "text/plain": [
       "'!\"#$%&\\'()*+,-./:;<=>?@[\\\\]^_`{|}~'"
      ]
     },
     "execution_count": 13,
     "metadata": {},
     "output_type": "execute_result"
    }
   ],
   "source": [
    "import string\n",
    "string.punctuation"
   ]
  },
  {
   "cell_type": "code",
   "execution_count": 14,
   "metadata": {},
   "outputs": [
    {
     "data": {
      "text/plain": [
       "[(0.0052426481404902071, 'said'),\n",
       " (0.0042593782899282449, 'man'),\n",
       " (0.0029856827327407721, 'holmes'),\n",
       " (0.0027292145063114804, 'little'),\n",
       " (0.0025282297539501661, 'time'),\n",
       " (0.0024039514724438094, 'come'),\n",
       " (0.0023724280309682039, 'way'),\n",
       " (0.0022825846674930073, 'came'),\n",
       " (0.0022629490326275905, 'face'),\n",
       " (0.0021509569474380584, 'asked'),\n",
       " (0.0021172514301587642, 'ferrier'),\n",
       " (0.0020386746786309222, 'drebber'),\n",
       " (0.0020325142684287523, 'eyes'),\n",
       " (0.0019934643246069428, 'hand'),\n",
       " (0.0019870578563633348, 'long'),\n",
       " (0.0019813616211855224, 'hope'),\n",
       " (0.0019806406529983326, 'answered'),\n",
       " (0.0019343326618588422, 'room'),\n",
       " (0.0018469674209103629, 'young'),\n",
       " (0.0018113476066996933, 'sherlock')]"
      ]
     },
     "execution_count": 14,
     "metadata": {},
     "output_type": "execute_result"
    }
   ],
   "source": [
    "t.keywords(20)"
   ]
  },
  {
   "cell_type": "code",
   "execution_count": null,
   "metadata": {
    "collapsed": true
   },
   "outputs": [],
   "source": [
    ""
   ]
  }
 ],
 "metadata": {
  "kernelspec": {
   "display_name": "venv",
   "language": "python",
   "name": "venv"
  },
  "language_info": {
   "codemirror_mode": {
    "name": "ipython",
    "version": 3.0
   },
   "file_extension": ".py",
   "mimetype": "text/x-python",
   "name": "python",
   "nbconvert_exporter": "python",
   "pygments_lexer": "ipython3",
   "version": "3.6.1"
  }
 },
 "nbformat": 4,
 "nbformat_minor": 0
}